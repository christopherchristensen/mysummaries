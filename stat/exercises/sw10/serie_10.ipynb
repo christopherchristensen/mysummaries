{
 "cells": [
  {
   "cell_type": "markdown",
   "metadata": {},
   "source": [
    "# Serie 10"
   ]
  },
  {
   "cell_type": "markdown",
   "metadata": {},
   "source": [
    "## Aufgabe 10.1"
   ]
  },
  {
   "cell_type": "markdown",
   "metadata": {},
   "source": [
    "**Lösungsansatz:** Alle Hemde sind zufällig in drei Gruppen bestehend aus vier Hemden aufgeteilt. Methode 1 unterzieht alle Gruppen als Batch dem Pressverfahren, danach werden die Gruppen nicht durchmischt und weiter als Batch im Simulationslauf behandelt. Methode 2 unterzieht die Hemden unabhängig den Pressverfahren. Danach werden diese in vier Gruppen bestehend aus drei Hemden aufgeteilt. Methode 3 hat wiederum wie Methode 1 weniger Vermischung. Deswegen mein Vorschlag: **Methode 2**."
   ]
  },
  {
   "cell_type": "markdown",
   "metadata": {},
   "source": [
    "## Aufgabe 10.2"
   ]
  },
  {
   "cell_type": "code",
   "execution_count": null,
   "metadata": {},
   "outputs": [],
   "source": [
    "from pandas import DataFrame \n",
    "import pandas as pd\n",
    "import numpy as np\n",
    "import seaborn as sns\n",
    "import matplotlib.pyplot as plt\n",
    "import scipy.stats as st\n",
    "\n",
    "df=DataFram({\n",
    "    \"Typ\": np.repeat([\"T1\", \"T2\", \"T3\", \"T4\"], [6, 6, 6, 6]),\n",
    "    \"Druckfestigkeit\": [655.5, 788.3, 734.3, ]\n",
    "})"
   ]
  }
 ],
 "metadata": {
  "kernelspec": {
   "display_name": "Python 3",
   "language": "python",
   "name": "python3"
  },
  "language_info": {
   "codemirror_mode": {
    "name": "ipython",
    "version": 3
   },
   "file_extension": ".py",
   "mimetype": "text/x-python",
   "name": "python",
   "nbconvert_exporter": "python",
   "pygments_lexer": "ipython3",
   "version": "3.6.4"
  }
 },
 "nbformat": 4,
 "nbformat_minor": 2
}
