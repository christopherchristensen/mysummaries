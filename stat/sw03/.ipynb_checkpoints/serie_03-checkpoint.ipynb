{
 "cells": [
  {
   "cell_type": "markdown",
   "metadata": {},
   "source": [
    "# Serie 3"
   ]
  },
  {
   "cell_type": "markdown",
   "metadata": {},
   "source": [
    "## Aufgabe 3.1"
   ]
  },
  {
   "cell_type": "markdown",
   "metadata": {},
   "source": [
    "**a.)** Die Wahrscheinlichkeit muss insgesamt 1 ergeben. Die Wahrscheinlichkeit berechnet man indem man die Wahrscheinlichkeitsdichtefunktion integriert. Das bedeutet $c$ ist $\\int_{0}^{60} \\mathrm{cx(15-\\frac{x}{4}}) \\mathrm{d}x \\overset{!}{=} 1$ nach c aufgelöst."
   ]
  },
  {
   "cell_type": "markdown",
   "metadata": {},
   "source": [
    "---\n",
    "\n",
    "**b.)** Die Verteilungsfunktion entspricht $f(x) = F'(x)$ (dem Integral der Wahrscheinlichkeitsdichtefunktion).\n",
    "\n",
    "> $Verteilungsfunktion = F(X) = c[\\frac{15}{2}x^2 - \\frac{1}{12}x^3]$ <br>\n",
    "\n",
    "> $\\textit{Beispiel Verteilungsfunktion} = F(X) = \\frac{1}{9000}[\\frac{15}{2}x^2 - \\frac{1}{12}x^3]$ <br>"
   ]
  },
  {
   "cell_type": "markdown",
   "metadata": {},
   "source": [
    "---\n",
    "**c.)** Das 90% Quantil entspricht allen Werten die nur mit 10% Wahrscheinlichkeit überschritten werden.\n",
    "\n",
    "> $F(a) = 0.9$ (kummulative Verteilungsfunktion)\n",
    "\n",
    "> $F(a) = \\frac{1}{9000} * [\\frac{15}{2}x^2 - \\frac{1}{12}x^3] = 0.9$\n",
    "\n",
    "Somit ist x = 48.252"
   ]
  },
  {
   "cell_type": "markdown",
   "metadata": {},
   "source": [
    "---\n",
    "\n",
    "**d.)** Das 50% Quantil wird verwendet um die erwarteten monatlichen Aufwendungen für den Wasserverbrauch eines 2-Personenhaushalts zu berechnen. \n",
    "\n",
    "> $F(a) = \\frac{1}{9000} * [\\frac{15}{2}x^2 - \\frac{1}{12}x^3] = 0.5$\n",
    "\n",
    "x ist somit. Um das Quantil zu bestimmen, kann man die Funktion aufzeichnen und den Finger auf der Funktion heben, wo sich etwa der Schwerpunkt befindet. Dies entspricht etwa dem Erwartungswert. Deswegen 0.5 (50%) bei diesem Beispiel"
   ]
  },
  {
   "cell_type": "markdown",
   "metadata": {},
   "source": [
    "## Aufgabe 3.2"
   ]
  },
  {
   "cell_type": "markdown",
   "metadata": {},
   "source": [
    "**a.)**"
   ]
  },
  {
   "cell_type": "markdown",
   "metadata": {},
   "source": [
    "## Aufgabe 3.4"
   ]
  },
  {
   "cell_type": "markdown",
   "metadata": {},
   "source": [
    "**b.)** kummulative Verteilungsfunktion:"
   ]
  },
  {
   "cell_type": "code",
   "execution_count": 6,
   "metadata": {},
   "outputs": [
    {
     "data": {
      "text/plain": [
       "0.9087887802741321"
      ]
     },
     "execution_count": 6,
     "metadata": {},
     "output_type": "execute_result"
    }
   ],
   "source": [
    "from scipy.stats import uniform, expon, norm\n",
    "norm.cdf(40, 32, 6)"
   ]
  },
  {
   "cell_type": "code",
   "execution_count": null,
   "metadata": {},
   "outputs": [],
   "source": []
  }
 ],
 "metadata": {
  "kernelspec": {
   "display_name": "Python 3",
   "language": "python",
   "name": "python3"
  },
  "language_info": {
   "codemirror_mode": {
    "name": "ipython",
    "version": 3
   },
   "file_extension": ".py",
   "mimetype": "text/x-python",
   "name": "python",
   "nbconvert_exporter": "python",
   "pygments_lexer": "ipython3",
   "version": "3.6.4"
  }
 },
 "nbformat": 4,
 "nbformat_minor": 2
}
