{
 "cells": [
  {
   "cell_type": "markdown",
   "metadata": {},
   "source": [
    "# Serie 04\n",
    "\n",
    "## Aufgabe 4.1\n",
    "\n",
    "**a.) Erwartungswert und Varianz ** \n",
    "\n",
    "$\\mu_X = 40 = $ Erwartungswert von X<br>\n",
    "$\\mu_Y = 85 = $ Erwartungswert von Y<br><br>\n",
    "$E(X + 2Y) = $ Erwartungswert von $(X + 2Y) = 40 + 2 \\cdot 85 = 210$<br><br>\n",
    "\n",
    "$\\sigma_X = 15 = $ Varianz von X<br>\n",
    "$\\sigma_Y = 18 = $ Varianz von Y<br><br>\n",
    "$Var(X + 2Y) = $ Varianz von $(X + 2Y) = 15^2 + 2^2 \\cdot 18^2 = 1521 $\n",
    "\n",
    "> Die Varianz ist immer im Quadrat zu rechnen!\n",
    "\n",
    "$E(X^2) = $ Erwartungswert plus Varianz im Quadrat von $X = \\mu^2_X + \\sigma^2_X = 40^2 + 15^2 = 1825$<br><br>\n",
    "\n",
    "\n",
    "**b.) Erwartungswert und Varianz, Praxisbeispiel **\n",
    "\n",
    "$\\mu_X = 1000 = $ Erwartungswert von X<br>\n",
    "$\\mu_Y = 500 = $ Erwartungswert von Y<br><br>\n",
    "\n",
    "$\\sigma_X = 0.02 = $ Varianz von X<br>\n",
    "$\\sigma_Y = 0.01 = $ Varianz von Y<br><br>\n",
    "\n",
    "Der Umfang besteht aus zweimal die Breite plus zweimal die Länge: $(2 \\cdot X + 2 \\cdot Y)$ <br>\n",
    "\n",
    "$E(2 \\cdot X + 2 \\cdot Y) = 2 \\cdot (1000 + 0.02^2) + 2 \\cdot (500 + 0.01^2) = 3000$<br><br>\n",
    "$\\sigma_U =  4\\sigma_{X2} +4\\sigma_{Y2} = 0.0447$ "
   ]
  },
  {
   "cell_type": "markdown",
   "metadata": {},
   "source": [
    "## Aufgabe 4.4\n",
    "\n",
    "**a.)**"
   ]
  },
  {
   "cell_type": "markdown",
   "metadata": {},
   "source": [
    "**b.)**\n",
    "\n",
    "> $"
   ]
  },
  {
   "cell_type": "code",
   "execution_count": 4,
   "metadata": {},
   "outputs": [
    {
     "data": {
      "text/plain": [
       "0.3085375387259869"
      ]
     },
     "execution_count": 4,
     "metadata": {},
     "output_type": "execute_result"
    }
   ],
   "source": [
    "from scipy.stats import uniform, expon, norm\n",
    "norm.cdf(0, 1, 2)"
   ]
  },
  {
   "cell_type": "markdown",
   "metadata": {},
   "source": [
    "**c.)** Mit den Kennzahlen von $S_n$"
   ]
  },
  {
   "cell_type": "code",
   "execution_count": 12,
   "metadata": {},
   "outputs": [
    {
     "data": {
      "text/plain": [
       "0.056380477710241905"
      ]
     },
     "execution_count": 12,
     "metadata": {},
     "output_type": "execute_result"
    }
   ],
   "source": [
    "norm.cdf(51, 50, 7.07*2) - norm.cdf(49, 50, 7.07*2)"
   ]
  },
  {
   "cell_type": "markdown",
   "metadata": {},
   "source": [
    "**d.)**"
   ]
  },
  {
   "cell_type": "code",
   "execution_count": 16,
   "metadata": {},
   "outputs": [
    {
     "data": {
      "text/plain": [
       "0.9995931002045406"
      ]
     },
     "execution_count": 16,
     "metadata": {},
     "output_type": "execute_result"
    }
   ],
   "source": [
    "norm.cdf(2, 1, 0.28284) - norm.cdf(0, 1, 0.28284)"
   ]
  },
  {
   "cell_type": "code",
   "execution_count": null,
   "metadata": {},
   "outputs": [],
   "source": []
  }
 ],
 "metadata": {
  "kernelspec": {
   "display_name": "Python 3",
   "language": "python",
   "name": "python3"
  },
  "language_info": {
   "codemirror_mode": {
    "name": "ipython",
    "version": 3
   },
   "file_extension": ".py",
   "mimetype": "text/x-python",
   "name": "python",
   "nbconvert_exporter": "python",
   "pygments_lexer": "ipython3",
   "version": "3.6.4"
  }
 },
 "nbformat": 4,
 "nbformat_minor": 2
}
