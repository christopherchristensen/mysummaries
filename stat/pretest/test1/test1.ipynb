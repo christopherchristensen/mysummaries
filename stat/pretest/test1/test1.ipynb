{
 "cells": [
  {
   "cell_type": "code",
   "execution_count": 9,
   "metadata": {},
   "outputs": [
    {
     "name": "stdout",
     "output_type": "stream",
     "text": [
      "        Day  gamma\n",
      "0   April 5  1.000\n",
      "1   April 6  0.960\n",
      "2   April 7  1.020\n",
      "3   April 8  1.000\n",
      "4   April 9  1.002\n",
      "5  April 13  1.022\n",
      "6  April 14  0.990\n",
      "7  April 15  0.980\n",
      "8  April 16  0.930\n",
      "0.9893333333333333\n",
      "0.029291637031753616\n",
      "0.02960744982993964\n"
     ]
    }
   ],
   "source": [
    "import pandas as pd\n",
    "from pandas import Series\n",
    "\n",
    "gammaFile = pd.read_table(\"gamma.txt\", delim_whitespace = True)\n",
    "gammaFile.count()\n",
    "print(gammaFile)\n",
    "gammaFile.describe()\n",
    "\n",
    "gamma = Series(gammaFile[\"gamma\"])\n",
    "\n",
    "arithMittel = gamma.sum() / gamma.count()\n",
    "print(arithMittel)\n",
    "standardabweichung = gamma.std()\n",
    "print(standardabweichung)\n",
    "\n",
    "\n",
    "temp = standardabweichung / arithMittel\n",
    "\n",
    "print(temp)"
   ]
  },
  {
   "cell_type": "code",
   "execution_count": 13,
   "metadata": {},
   "outputs": [
    {
     "data": {
      "text/plain": [
       "(0.9668177879609599, 1.0118488787057067)"
      ]
     },
     "execution_count": 13,
     "metadata": {},
     "output_type": "execute_result"
    }
   ],
   "source": [
    "import scipy.stats as st\n",
    "import numpy as np\n",
    "\n",
    "st.t.interval(alpha=.95, df=8, loc=gamma.mean(), scale=gamma.std()/np.sqrt(9))"
   ]
  },
  {
   "cell_type": "code",
   "execution_count": 29,
   "metadata": {},
   "outputs": [],
   "source": [
    "schoko = pd.read_table(\"Schokolade_Nobelpreis.txt\", delim_whitespace = True)\n",
    "\n",
    "schoko.describe()\n",
    "schoko = Series([schoko[\"Nobel Laureates per 10 Million\"], schoko[\"Chocolate consumption (kg) per capita\"]])"
   ]
  },
  {
   "cell_type": "code",
   "execution_count": 16,
   "metadata": {},
   "outputs": [
    {
     "data": {
      "text/html": [
       "<div>\n",
       "<style scoped>\n",
       "    .dataframe tbody tr th:only-of-type {\n",
       "        vertical-align: middle;\n",
       "    }\n",
       "\n",
       "    .dataframe tbody tr th {\n",
       "        vertical-align: top;\n",
       "    }\n",
       "\n",
       "    .dataframe thead th {\n",
       "        text-align: right;\n",
       "    }\n",
       "</style>\n",
       "<table border=\"1\" class=\"dataframe\">\n",
       "  <thead>\n",
       "    <tr style=\"text-align: right;\">\n",
       "      <th></th>\n",
       "      <th>Nobel Laureates per 10 Million</th>\n",
       "      <th>Chocolate consumption (kg) per capita</th>\n",
       "    </tr>\n",
       "  </thead>\n",
       "  <tbody>\n",
       "    <tr>\n",
       "      <th>Nobel Laureates per 10 Million</th>\n",
       "      <td>1.00000</td>\n",
       "      <td>0.75859</td>\n",
       "    </tr>\n",
       "    <tr>\n",
       "      <th>Chocolate consumption (kg) per capita</th>\n",
       "      <td>0.75859</td>\n",
       "      <td>1.00000</td>\n",
       "    </tr>\n",
       "  </tbody>\n",
       "</table>\n",
       "</div>"
      ],
      "text/plain": [
       "                                       Nobel Laureates per 10 Million  \\\n",
       "Nobel Laureates per 10 Million                                1.00000   \n",
       "Chocolate consumption (kg) per capita                         0.75859   \n",
       "\n",
       "                                       Chocolate consumption (kg) per capita  \n",
       "Nobel Laureates per 10 Million                                       0.75859  \n",
       "Chocolate consumption (kg) per capita                                1.00000  "
      ]
     },
     "execution_count": 16,
     "metadata": {},
     "output_type": "execute_result"
    }
   ],
   "source": [
    "schoko.corr()"
   ]
  },
  {
   "cell_type": "code",
   "execution_count": 18,
   "metadata": {},
   "outputs": [
    {
     "data": {
      "text/plain": [
       "0.15321670790410435"
      ]
     },
     "execution_count": 18,
     "metadata": {},
     "output_type": "execute_result"
    }
   ],
   "source": [
    "from scipy.stats import t\n",
    "\n",
    "x = gamma.mean()\n",
    "\n",
    "t.ppf(q=0.975, df=9)\n",
    "\n",
    "1-t.cdf(x=1, df=8, loc=gamma.mean(), scale=gamma.std()/np.sqrt(9))"
   ]
  },
  {
   "cell_type": "code",
   "execution_count": 19,
   "metadata": {},
   "outputs": [
    {
     "data": {
      "text/plain": [
       "1.0"
      ]
     },
     "execution_count": 19,
     "metadata": {},
     "output_type": "execute_result"
    }
   ],
   "source": [
    "gamma.median()"
   ]
  },
  {
   "cell_type": "code",
   "execution_count": 24,
   "metadata": {},
   "outputs": [
    {
     "data": {
      "text/plain": [
       "<matplotlib.axes._subplots.AxesSubplot at 0x11526ccc0>"
      ]
     },
     "execution_count": 24,
     "metadata": {},
     "output_type": "execute_result"
    },
    {
     "data": {
      "image/png": "[encoded data removed]",
      "text/plain": [
       "<matplotlib.figure.Figure at 0x1151e97b8>"
      ]
     },
     "metadata": {},
     "output_type": "display_data"
    }
   ],
   "source": [
    "gamma.plot(kind='hist')\n",
    "\n"
   ]
  },
  {
   "cell_type": "code",
   "execution_count": 38,
   "metadata": {},
   "outputs": [
    {
     "data": {
      "text/plain": [
       "count                                                     2\n",
       "unique                                                    2\n",
       "top       0     30.677\n",
       "1     30.125\n",
       "2     24.947\n",
       "3     2...\n",
       "freq                                                      1\n",
       "dtype: object"
      ]
     },
     "execution_count": 38,
     "metadata": {},
     "output_type": "execute_result"
    }
   ],
   "source": [
    "schoko.describe()"
   ]
  },
  {
   "cell_type": "code",
   "execution_count": 39,
   "metadata": {},
   "outputs": [
    {
     "data": {
      "text/plain": [
       "<matplotlib.axes._subplots.AxesSubplot at 0x1a1cfadda0>"
      ]
     },
     "execution_count": 39,
     "metadata": {},
     "output_type": "execute_result"
    },
    {
     "data": {
      "image/png": "[encoded data removed]",
      "text/plain": [
       "<matplotlib.figure.Figure at 0x1a1cfa29e8>"
      ]
     },
     "metadata": {},
     "output_type": "display_data"
    }
   ],
   "source": [
    "gamma.plot(\"box\")"
   ]
  },
  {
   "cell_type": "code",
   "execution_count": null,
   "metadata": {},
   "outputs": [],
   "source": []
  }
 ],
 "metadata": {
  "kernelspec": {
   "display_name": "Python 3",
   "language": "python",
   "name": "python3"
  },
  "language_info": {
   "codemirror_mode": {
    "name": "ipython",
    "version": 3
   },
   "file_extension": ".py",
   "mimetype": "text/x-python",
   "name": "python",
   "nbconvert_exporter": "python",
   "pygments_lexer": "ipython3",
   "version": "3.6.4"
  }
 },
 "nbformat": 4,
 "nbformat_minor": 2
}
