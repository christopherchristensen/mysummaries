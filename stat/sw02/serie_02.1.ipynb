{
 "cells": [
  {
   "cell_type": "markdown",
   "metadata": {},
   "source": [
    "# Serie 02"
   ]
  },
  {
   "cell_type": "markdown",
   "metadata": {},
   "source": [
    "## Aufgabe 2.1"
   ]
  },
  {
   "cell_type": "markdown",
   "metadata": {},
   "source": [
    "a.) Ich habe die erste Note um 3.2 und die letzten beiden Noten um 2 verändert. Dies führt zu einer Verschiebung der Daten im Datensatz."
   ]
  },
  {
   "cell_type": "code",
   "execution_count": 40,
   "metadata": {},
   "outputs": [
    {
     "name": "stdout",
     "output_type": "stream",
     "text": [
      "Mean: 4.5125\n",
      "Median: 4.65\n",
      "Mean: 4.4624999999999995\n",
      "Median: 4.65\n"
     ]
    }
   ],
   "source": [
    "from pandas import Series, DataFrame \n",
    "import pandas as pd\n",
    "import matplotlib.pyplot as plt \n",
    "import numpy as np\n",
    "\n",
    "x = Series([4.2, 2.3, 5.6, 4.5, 4.8, 3.9, 5.9, 2.4, 5.9, \n",
    "            6, 4, 3.7, 5, 5.2, 4.5, 3.6, 5, 6, 2.8, 3.3, \n",
    "            5.5, 4.2, 4.9, 5.1])\n",
    "\n",
    "print(\"Mean: \" +str(x.mean()))\n",
    "print(\"Median: \"+str(x.median()))\n",
    "\n",
    "x[0] = 1\n",
    "x[x.size-1] = 6\n",
    "x[x.size-2] = 6\n",
    "\n",
    "print(\"Mean: \" + str(x.mean()))\n",
    "print(\"Median: \" + str(x.median()))"
   ]
  },
  {
   "cell_type": "markdown",
   "metadata": {},
   "source": [
    "---\n",
    "b.) Der Median ist im Boxplot gut ersichtlich und befindet sich wenig höher als 4.5. "
   ]
  },
  {
   "cell_type": "code",
   "execution_count": 20,
   "metadata": {},
   "outputs": [
    {
     "data": {
      "text/plain": [
       "<matplotlib.axes._subplots.AxesSubplot at 0x106e06978>"
      ]
     },
     "execution_count": 20,
     "metadata": {},
     "output_type": "execute_result"
    },
    {
     "data": {
      "image/png": "[encoded data removed]",
      "text/plain": [
       "<matplotlib.figure.Figure at 0x106faa048>"
      ]
     },
     "metadata": {},
     "output_type": "display_data"
    }
   ],
   "source": [
    "x.plot(kind=\"box\", title=\"Boxplot Noten\")"
   ]
  },
  {
   "cell_type": "code",
   "execution_count": 31,
   "metadata": {},
   "outputs": [
    {
     "data": {
      "text/plain": [
       "<matplotlib.axes._subplots.AxesSubplot at 0x10fa42518>"
      ]
     },
     "execution_count": 31,
     "metadata": {},
     "output_type": "execute_result"
    },
    {
     "data": {
      "image/png": "[encoded data removed]",
      "text/plain": [
       "<matplotlib.figure.Figure at 0x10fb10940>"
      ]
     },
     "metadata": {},
     "output_type": "display_data"
    }
   ],
   "source": [
    "x.plot(kind=\"hist\", bins=12, title=\"Histogramm Noten\", edgecolor=\"white\")"
   ]
  },
  {
   "cell_type": "markdown",
   "metadata": {},
   "source": [
    "---\n",
    "## Aufgabe 2.2"
   ]
  },
  {
   "cell_type": "code",
   "execution_count": 45,
   "metadata": {},
   "outputs": [
    {
     "data": {
      "text/html": [
       "<div>\n",
       "<style scoped>\n",
       "    .dataframe tbody tr th:only-of-type {\n",
       "        vertical-align: middle;\n",
       "    }\n",
       "\n",
       "    .dataframe tbody tr th {\n",
       "        vertical-align: top;\n",
       "    }\n",
       "\n",
       "    .dataframe thead th {\n",
       "        text-align: right;\n",
       "    }\n",
       "</style>\n",
       "<table border=\"1\" class=\"dataframe\">\n",
       "  <thead>\n",
       "    <tr style=\"text-align: right;\">\n",
       "      <th></th>\n",
       "      <th>Pr1</th>\n",
       "      <th>Pr2</th>\n",
       "      <th>Pr3</th>\n",
       "      <th>Pr4</th>\n",
       "      <th>Pr5</th>\n",
       "      <th>Pr6</th>\n",
       "      <th>Pr7</th>\n",
       "      <th>Pr8</th>\n",
       "      <th>Pr9</th>\n",
       "    </tr>\n",
       "  </thead>\n",
       "  <tbody>\n",
       "    <tr>\n",
       "      <th>1</th>\n",
       "      <td>233</td>\n",
       "      <td>491</td>\n",
       "      <td>428</td>\n",
       "      <td>376</td>\n",
       "      <td>200</td>\n",
       "      <td>364</td>\n",
       "      <td>474</td>\n",
       "      <td>444</td>\n",
       "      <td>351</td>\n",
       "    </tr>\n",
       "    <tr>\n",
       "      <th>2</th>\n",
       "      <td>253</td>\n",
       "      <td>530</td>\n",
       "      <td>453</td>\n",
       "      <td>389</td>\n",
       "      <td>191</td>\n",
       "      <td>402</td>\n",
       "      <td>495</td>\n",
       "      <td>453</td>\n",
       "      <td>371</td>\n",
       "    </tr>\n",
       "    <tr>\n",
       "      <th>3</th>\n",
       "      <td>240</td>\n",
       "      <td>530</td>\n",
       "      <td>460</td>\n",
       "      <td>390</td>\n",
       "      <td>200</td>\n",
       "      <td>390</td>\n",
       "      <td>480</td>\n",
       "      <td>440</td>\n",
       "      <td>350</td>\n",
       "    </tr>\n",
       "    <tr>\n",
       "      <th>4</th>\n",
       "      <td>243</td>\n",
       "      <td>518</td>\n",
       "      <td>456</td>\n",
       "      <td>389</td>\n",
       "      <td>186</td>\n",
       "      <td>385</td>\n",
       "      <td>483</td>\n",
       "      <td>459</td>\n",
       "      <td>369</td>\n",
       "    </tr>\n",
       "    <tr>\n",
       "      <th>5</th>\n",
       "      <td>244</td>\n",
       "      <td>521</td>\n",
       "      <td>446</td>\n",
       "      <td>392</td>\n",
       "      <td>193</td>\n",
       "      <td>385</td>\n",
       "      <td>481</td>\n",
       "      <td>451</td>\n",
       "      <td>357</td>\n",
       "    </tr>\n",
       "  </tbody>\n",
       "</table>\n",
       "</div>"
      ],
      "text/plain": [
       "   Pr1  Pr2  Pr3  Pr4  Pr5  Pr6  Pr7  Pr8  Pr9\n",
       "1  233  491  428  376  200  364  474  444  351\n",
       "2  253  530  453  389  191  402  495  453  371\n",
       "3  240  530  460  390  200  390  480  440  350\n",
       "4  243  518  456  389  186  385  483  459  369\n",
       "5  244  521  446  392  193  385  481  451  357"
      ]
     },
     "execution_count": 45,
     "metadata": {},
     "output_type": "execute_result"
    }
   ],
   "source": [
    "schlamm = pd.read_table(r\"klaerschlamm.dat\", sep=\" \", index_col=0)\n",
    "\n",
    "schlamm = schlamm.drop(\"Labor\",1)\n",
    "schlamm.head()"
   ]
  },
  {
   "cell_type": "raw",
   "metadata": {},
   "source": [
    "---\n",
    "a.) Ausreisser bei allen, ausser bei Pr5 (grosse Ausreisser bei Pr7 und Pr9). Mittel und Median unterscheiden sich wesentlich bei Pr1, Pr2, Pr6, Pr7 und Pr9 (<10)."
   ]
  },
  {
   "cell_type": "code",
   "execution_count": 58,
   "metadata": {},
   "outputs": [
    {
     "data": {
      "text/html": [
       "<div>\n",
       "<style scoped>\n",
       "    .dataframe tbody tr th:only-of-type {\n",
       "        vertical-align: middle;\n",
       "    }\n",
       "\n",
       "    .dataframe tbody tr th {\n",
       "        vertical-align: top;\n",
       "    }\n",
       "\n",
       "    .dataframe thead th {\n",
       "        text-align: right;\n",
       "    }\n",
       "</style>\n",
       "<table border=\"1\" class=\"dataframe\">\n",
       "  <thead>\n",
       "    <tr style=\"text-align: right;\">\n",
       "      <th></th>\n",
       "      <th>Pr1</th>\n",
       "      <th>Pr2</th>\n",
       "      <th>Pr3</th>\n",
       "      <th>Pr4</th>\n",
       "      <th>Pr5</th>\n",
       "      <th>Pr6</th>\n",
       "      <th>Pr7</th>\n",
       "      <th>Pr8</th>\n",
       "      <th>Pr9</th>\n",
       "    </tr>\n",
       "  </thead>\n",
       "  <tbody>\n",
       "    <tr>\n",
       "      <th>mean</th>\n",
       "      <td>246.0</td>\n",
       "      <td>511.0</td>\n",
       "      <td>443.0</td>\n",
       "      <td>389.0</td>\n",
       "      <td>188.0</td>\n",
       "      <td>395.0</td>\n",
       "      <td>466.0</td>\n",
       "      <td>450.0</td>\n",
       "      <td>389.0</td>\n",
       "    </tr>\n",
       "    <tr>\n",
       "      <th>50%</th>\n",
       "      <td>244.0</td>\n",
       "      <td>521.0</td>\n",
       "      <td>446.0</td>\n",
       "      <td>390.0</td>\n",
       "      <td>188.0</td>\n",
       "      <td>385.0</td>\n",
       "      <td>481.0</td>\n",
       "      <td>451.0</td>\n",
       "      <td>369.0</td>\n",
       "    </tr>\n",
       "  </tbody>\n",
       "</table>\n",
       "</div>"
      ],
      "text/plain": [
       "        Pr1    Pr2    Pr3    Pr4    Pr5    Pr6    Pr7    Pr8    Pr9\n",
       "mean  246.0  511.0  443.0  389.0  188.0  395.0  466.0  450.0  389.0\n",
       "50%   244.0  521.0  446.0  390.0  188.0  385.0  481.0  451.0  369.0"
      ]
     },
     "execution_count": 58,
     "metadata": {},
     "output_type": "execute_result"
    }
   ],
   "source": [
    "schlamm.describe().loc[[\"mean\",\"50%\"]].round()"
   ]
  },
  {
   "cell_type": "code",
   "execution_count": 59,
   "metadata": {},
   "outputs": [
    {
     "data": {
      "text/plain": [
       "<matplotlib.axes._subplots.AxesSubplot at 0x11006abe0>"
      ]
     },
     "execution_count": 59,
     "metadata": {},
     "output_type": "execute_result"
    },
    {
     "data": {
      "image/png": "[encoded data removed]",
      "text/plain": [
       "<matplotlib.figure.Figure at 0x110062e48>"
      ]
     },
     "metadata": {},
     "output_type": "display_data"
    }
   ],
   "source": [
    "schlamm.plot(kind=\"box\")"
   ]
  },
  {
   "cell_type": "code",
   "execution_count": 60,
   "metadata": {},
   "outputs": [
    {
     "data": {
      "text/plain": [
       "<matplotlib.axes._subplots.AxesSubplot at 0x110218860>"
      ]
     },
     "execution_count": 60,
     "metadata": {},
     "output_type": "execute_result"
    },
    {
     "data": {
      "image/png": "[encoded data removed]",
      "text/plain": [
       "<matplotlib.figure.Figure at 0x10fa1acc0>"
      ]
     },
     "metadata": {},
     "output_type": "display_data"
    }
   ],
   "source": [
    "schlamm_centered = schlamm - schlamm.median()\n",
    "schlamm_centered.T.plot(kind=\"box\")"
   ]
  },
  {
   "cell_type": "code",
   "execution_count": null,
   "metadata": {},
   "outputs": [],
   "source": []
  }
 ],
 "metadata": {
  "kernelspec": {
   "display_name": "Python 3",
   "language": "python",
   "name": "python3"
  },
  "language_info": {
   "codemirror_mode": {
    "name": "ipython",
    "version": 3
   },
   "file_extension": ".py",
   "mimetype": "text/x-python",
   "name": "python",
   "nbconvert_exporter": "python",
   "pygments_lexer": "ipython3",
   "version": "3.6.4"
  }
 },
 "nbformat": 4,
 "nbformat_minor": 2
}
