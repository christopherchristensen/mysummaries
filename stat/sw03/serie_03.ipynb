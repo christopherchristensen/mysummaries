{
 "cells": [
  {
   "cell_type": "markdown",
   "metadata": {},
   "source": [
    "# Serie 3"
   ]
  },
  {
   "cell_type": "markdown",
   "metadata": {},
   "source": [
    "## Aufgabe 3.1"
   ]
  },
  {
   "cell_type": "markdown",
   "metadata": {},
   "source": [
    "**a.)** Die Wahrscheinlichkeit muss insgesamt 1 ergeben. Die Wahrscheinlichkeit berechnet man indem man die Wahrscheinlichkeitsdichtefunktion integriert. Das bedeutet $c$ ist $\\int_{0}^{60} \\mathrm{cx(15-\\frac{x}{4}}) \\mathrm{d}x \\overset{!}{=} 1$ nach c aufgelöst."
   ]
  },
  {
   "cell_type": "markdown",
   "metadata": {},
   "source": [
    "---\n",
    "\n",
    "**b.)** Die Verteilungsfunktion entspricht $f(x) = F'(x)$ (dem Integral der Wahrscheinlichkeitsdichtefunktion).\n",
    "\n",
    "> $Verteilungsfunktion = F(X) = c[\\frac{15}{2}x^2 - \\frac{1}{12}x^3]$ <br>\n",
    "\n",
    "> $\\textit{Beispiel Verteilungsfunktion} = F(X) = \\frac{1}{9000}[\\frac{15}{2}x^2 - \\frac{1}{12}x^3]$ <br>"
   ]
  },
  {
   "cell_type": "markdown",
   "metadata": {},
   "source": [
    "---\n",
    "**c.)** Das 90% Quantil entspricht allen Werten die nur mit 10% Wahrscheinlichkeit überschritten werden.\n",
    "\n",
    "> $F(a) = 0.9$ (kummulative Verteilungsfunktion)\n",
    "\n",
    "> $F(a) = \\frac{1}{9000} * [\\frac{15}{2}x^2 - \\frac{1}{12}x^3] = 0.9$\n",
    "\n",
    "Somit ist x = 48.252"
   ]
  },
  {
   "cell_type": "markdown",
   "metadata": {},
   "source": [
    "---\n",
    "\n",
    "**d.)** Das 50% Quantil wird verwendet um die erwarteten monatlichen Aufwendungen für den Wasserverbrauch eines 2-Personenhaushalts zu berechnen. \n",
    "\n",
    "> $F(a) = \\frac{1}{9000} * [\\frac{15}{2}x^2 - \\frac{1}{12}x^3] = 0.5$\n",
    "\n",
    "x ist somit. Um das Quantil zu bestimmen, kann man die Funktion aufzeichnen und den Finger auf der Funktion heben, wo sich etwa der Schwerpunkt befindet. Dies entspricht etwa dem Erwartungswert. Deswegen 0.5 (50%) bei diesem Beispiel"
   ]
  },
  {
   "cell_type": "markdown",
   "metadata": {},
   "source": [
    "## Aufgabe 3.2"
   ]
  },
  {
   "cell_type": "markdown",
   "metadata": {},
   "source": [
    "**a.)**"
   ]
  },
  {
   "cell_type": "markdown",
   "metadata": {},
   "source": [
    "## Aufgabe 3.4"
   ]
  },
  {
   "cell_type": "markdown",
   "metadata": {},
   "source": [
    "**a.)** Normalverteilungsskizze"
   ]
  },
  {
   "cell_type": "code",
   "execution_count": 6,
   "metadata": {},
   "outputs": [
    {
     "data": {
      "text/plain": [
       "<matplotlib.image.AxesImage at 0x11b698b00>"
      ]
     },
     "execution_count": 6,
     "metadata": {},
     "output_type": "execute_result"
    },
    {
     "data": {
      "image/png": "[encoded data removed]",
      "text/plain": [
       "<matplotlib.figure.Figure at 0x111467d30>"
      ]
     },
     "metadata": {},
     "output_type": "display_data"
    }
   ],
   "source": [
    "import matplotlib.pyplot as plt\n",
    "import matplotlib.image as mpimg\n",
    "img=mpimg.imread('normalverteilung.png')\n",
    "plt.imshow(img)"
   ]
  },
  {
   "cell_type": "markdown",
   "metadata": {},
   "source": [
    "**b.)** kummulative Verteilungsfunktion:"
   ]
  },
  {
   "cell_type": "code",
   "execution_count": 7,
   "metadata": {},
   "outputs": [
    {
     "data": {
      "text/plain": [
       "0.9087887802741321"
      ]
     },
     "execution_count": 7,
     "metadata": {},
     "output_type": "execute_result"
    }
   ],
   "source": [
    "from scipy.stats import uniform, expon, norm\n",
    "norm.cdf(40, 32, 6)"
   ]
  },
  {
   "cell_type": "markdown",
   "metadata": {},
   "source": [
    "Standardnormalverteilung hat einen Erwartungswert $\\mu$ von 0 und eine Standardabweichung $\\sigma$ von 1 (siehe Folie 41/42)."
   ]
  },
  {
   "cell_type": "code",
   "execution_count": 12,
   "metadata": {},
   "outputs": [
    {
     "ename": "SyntaxError",
     "evalue": "invalid syntax (<ipython-input-12-c87bc7e13951>, line 1)",
     "output_type": "error",
     "traceback": [
      "\u001b[0;36m  File \u001b[0;32m\"<ipython-input-12-c87bc7e13951>\"\u001b[0;36m, line \u001b[0;32m1\u001b[0m\n\u001b[0;31m    norm.cdf(?, 0, 1)\u001b[0m\n\u001b[0m             ^\u001b[0m\n\u001b[0;31mSyntaxError\u001b[0m\u001b[0;31m:\u001b[0m invalid syntax\n"
     ]
    }
   ],
   "source": [
    "norm.cdf(?, 0, 1) \n",
    "# Man müsste 40 herunterbrechen damit es im richtigen Verhältnis zur\n",
    "# Standardnormalverteilung steht (also zwischen 1 und 2).\n",
    "# Keine Ahnung, wie man das machen könnte."
   ]
  },
  {
   "cell_type": "markdown",
   "metadata": {},
   "source": [
    "**c.)** Wieder die kummulative Verteilungsfunktion anwenden."
   ]
  },
  {
   "cell_type": "code",
   "execution_count": 13,
   "metadata": {},
   "outputs": [
    {
     "data": {
      "text/plain": [
       "0.20232838096364308"
      ]
     },
     "execution_count": 13,
     "metadata": {},
     "output_type": "execute_result"
    }
   ],
   "source": [
    "norm.cdf(27, 32, 6)"
   ]
  },
  {
   "cell_type": "markdown",
   "metadata": {},
   "source": [
    "**d.)** Wahrscheinlichkeitsdichtefunktion"
   ]
  },
  {
   "cell_type": "code",
   "execution_count": 14,
   "metadata": {},
   "outputs": [
    {
     "data": {
      "text/plain": [
       "43.759783907240326"
      ]
     },
     "execution_count": 14,
     "metadata": {},
     "output_type": "execute_result"
    }
   ],
   "source": [
    "norm.ppf(0.975, 32, 6)"
   ]
  },
  {
   "cell_type": "markdown",
   "metadata": {},
   "source": [
    "**e.)** Wahrscheinlichkeitsdichtefunktion"
   ]
  },
  {
   "cell_type": "code",
   "execution_count": 15,
   "metadata": {},
   "outputs": [
    {
     "data": {
      "text/plain": [
       "24.310690606732397"
      ]
     },
     "execution_count": 15,
     "metadata": {},
     "output_type": "execute_result"
    }
   ],
   "source": [
    "norm.ppf(0.1, 32, 6)"
   ]
  },
  {
   "cell_type": "markdown",
   "metadata": {},
   "source": [
    "**f.)** Die Wahrscheinlichkeit beinhaltet die Fläche zwischen der linken und rechten Standardabweichung, welche laut Definition der Normalverteilung bei 2/3 liegt."
   ]
  },
  {
   "cell_type": "code",
   "execution_count": 19,
   "metadata": {},
   "outputs": [
    {
     "data": {
      "text/plain": [
       "0.6826894921370859"
      ]
     },
     "execution_count": 19,
     "metadata": {},
     "output_type": "execute_result"
    }
   ],
   "source": [
    "norm.cdf(38, 32, 6) - norm.cdf(26, 32, 6)"
   ]
  },
  {
   "cell_type": "markdown",
   "metadata": {},
   "source": [
    "## Aufgabe 3.5"
   ]
  },
  {
   "cell_type": "markdown",
   "metadata": {},
   "source": [
    "**a.)** Wir verwenden die kummulative Verteilungsfunktion"
   ]
  },
  {
   "cell_type": "code",
   "execution_count": 22,
   "metadata": {},
   "outputs": [
    {
     "data": {
      "text/plain": [
       "0.02275013194817921"
      ]
     },
     "execution_count": 22,
     "metadata": {},
     "output_type": "execute_result"
    }
   ],
   "source": [
    "1 - norm.cdf(0.9, 0, 0.45)"
   ]
  },
  {
   "cell_type": "markdown",
   "metadata": {},
   "source": [
    "**b.)** Wahrscheinlichkeitsdichtefunktion (+/-). Man nimmt 0.005 und 0.995, da dies 99% der Fläche abdeckt."
   ]
  },
  {
   "cell_type": "code",
   "execution_count": 31,
   "metadata": {},
   "outputs": [
    {
     "name": "stdout",
     "output_type": "stream",
     "text": [
      "-1.1591231865970053\n",
      "1.1591231865970053\n"
     ]
    }
   ],
   "source": [
    "print(norm.ppf(0.005, 0, 0.45))\n",
    "print(norm.ppf(0.995, 0, 0.45))"
   ]
  },
  {
   "cell_type": "markdown",
   "metadata": {},
   "source": [
    "**c.)** Man nimmt wieder die kummulative Verteilungsfunktion"
   ]
  },
  {
   "cell_type": "code",
   "execution_count": 32,
   "metadata": {},
   "outputs": [
    {
     "data": {
      "text/plain": [
       "0.022750131948179195"
      ]
     },
     "execution_count": 32,
     "metadata": {},
     "output_type": "execute_result"
    }
   ],
   "source": [
    "norm.cdf(0.9, 1.8, 0.45)"
   ]
  },
  {
   "cell_type": "markdown",
   "metadata": {},
   "source": [
    "## Aufgabe 3.6"
   ]
  },
  {
   "cell_type": "markdown",
   "metadata": {},
   "source": [
    "**a.)** "
   ]
  }
 ],
 "metadata": {
  "kernelspec": {
   "display_name": "Python 3",
   "language": "python",
   "name": "python3"
  },
  "language_info": {
   "codemirror_mode": {
    "name": "ipython",
    "version": 3
   },
   "file_extension": ".py",
   "mimetype": "text/x-python",
   "name": "python",
   "nbconvert_exporter": "python",
   "pygments_lexer": "ipython3",
   "version": "3.6.4"
  }
 },
 "nbformat": 4,
 "nbformat_minor": 2
}
