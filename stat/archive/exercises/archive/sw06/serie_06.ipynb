{
 "cells": [
  {
   "cell_type": "markdown",
   "metadata": {},
   "source": [
    "# Serie 06"
   ]
  },
  {
   "cell_type": "markdown",
   "metadata": {},
   "source": [
    "## Aufgabe 6.1\n",
    "\n",
    "**Verwerfungsbereich der standardisierten Zufallsvariablen.**"
   ]
  },
  {
   "cell_type": "code",
   "execution_count": 11,
   "metadata": {},
   "outputs": [],
   "source": [
    "from scipy.stats import t\n",
    "import pandas as pd\n",
    "import numpy as np\n",
    "\n",
    "data = pd.Series([71, 69, 67, 68, 73, 72, 71, 71, 68, 72, 69, 72])\n",
    "anzahl = data.count()\n",
    "signifikanzniveau = 1.5\n",
    "nullhypothese = 70\n",
    "standardfehler = data.std()"
   ]
  },
  {
   "cell_type": "markdown",
   "metadata": {},
   "source": [
    "### Modell\n",
    "1. Was bedeutet Zufallsvariable (Inhalt in Zentiliter der iten Weinflasche, i = 1, 2, ..., 12)\n",
    "2. i.i.d ~ $N(\\mu, \\sigma^2 = 1.5)$\n",
    "3. Vor Annahme des Modells, schauen, ob Daten Normalverteilt sind\n",
    "\n",
    "### Null- / Alternativhypothese\n",
    "\n",
    "4. Nullhypothese ist bestehende Behauptung (70 Zentiliter)\n",
    "5. Alternativhypothese = $\\mu_A$\n",
    "\n",
    "### Teststatistik\n",
    "\n",
    "6. $Z = \\frac{\\overline{X_n} - \\mu_0}{\\frac{\\sigma_x}{\\sqrt{n}}}$, Verteilung unter $H_0: Z ~ N(0,1)$\n",
    "\n",
    "### Signifikanzniveau\n",
    "\n",
    "### Verwerfungsbereich\n",
    "\n",
    "Der Verwerfungsbereich zeigt immer in die Richtung der Alternativhypothese!"
   ]
  },
  {
   "cell_type": "code",
   "execution_count": null,
   "metadata": {},
   "outputs": [],
   "source": []
  }
 ],
 "metadata": {
  "kernelspec": {
   "display_name": "Python 3",
   "language": "python",
   "name": "python3"
  },
  "language_info": {
   "codemirror_mode": {
    "name": "ipython",
    "version": 3
   },
   "file_extension": ".py",
   "mimetype": "text/x-python",
   "name": "python",
   "nbconvert_exporter": "python",
   "pygments_lexer": "ipython3",
   "version": "3.6.4"
  }
 },
 "nbformat": 4,
 "nbformat_minor": 2
}
